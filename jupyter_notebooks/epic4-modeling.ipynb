{
 "cells": [
  {
   "cell_type": "markdown",
   "metadata": {},
   "source": [
    "# **EPIC 4 - MODELING**"
   ]
  },
  {
   "cell_type": "markdown",
   "metadata": {},
   "source": [
    "## Objectives\n",
    "\n",
    "- Train and validate the model on the prepared image datasets.\n",
    "\n",
    "### Acceptance Criteria\n",
    "- Image sets should initially be 70% training, 15% validation, and 15% test.\n",
    "- Model performs 'well' on validation set - otherwise, return to Pre-process images #4\n",
    "\n",
    "## Tasks\n",
    "- Split the images into training, validation, and test sets.\n",
    "- Plot the numbers of images in each set (LO 3.1).\n",
    "\n",
    "## Inputs\n",
    "\n",
    "- inputs/[datasets]: folders containing the prepare image datasets for each animal.\n",
    "\n",
    "## Outputs\n",
    "\n",
    "- Image datasets for each animal split into training, validation, and test sets."
   ]
  },
  {
   "cell_type": "markdown",
   "metadata": {},
   "source": [
    "---"
   ]
  },
  {
   "cell_type": "markdown",
   "metadata": {},
   "source": [
    "# Import packages"
   ]
  },
  {
   "cell_type": "code",
   "execution_count": 23,
   "metadata": {},
   "outputs": [],
   "source": [
    "import os\n",
    "import pandas as pd\n",
    "import numpy as np\n",
    "import matplotlib.pyplot as plt\n",
    "import seaborn as sns\n",
    "from matplotlib.image import imread"
   ]
  },
  {
   "cell_type": "markdown",
   "metadata": {},
   "source": [
    "# Set working directory"
   ]
  },
  {
   "cell_type": "code",
   "execution_count": 24,
   "metadata": {},
   "outputs": [
    {
     "name": "stdout",
     "output_type": "stream",
     "text": [
      "Current working directory is: /Users/gingermale/Documents/repos/PP5/pet-image-classifier\n"
     ]
    }
   ],
   "source": [
    "current_dir = os.getcwd()\n",
    "print(\"Current working directory is:\", current_dir)"
   ]
  },
  {
   "cell_type": "code",
   "execution_count": 4,
   "metadata": {},
   "outputs": [
    {
     "name": "stdout",
     "output_type": "stream",
     "text": [
      "Changing the working directory to parent folder: /Users/gingermale/Documents/repos/PP5/pet-image-classifier\n"
     ]
    }
   ],
   "source": [
    "os.chdir(os.path.dirname(current_dir)) # Change the current working directory to the parent directory\n",
    "current_dir = os.getcwd() # Get the new current working directory\n",
    "print(\"Changing the working directory to parent folder:\", current_dir)"
   ]
  },
  {
   "cell_type": "markdown",
   "metadata": {},
   "source": [
    "# Set input and output paths"
   ]
  },
  {
   "cell_type": "code",
   "execution_count": 25,
   "metadata": {},
   "outputs": [
    {
     "name": "stdout",
     "output_type": "stream",
     "text": [
      "Old version is already available. Create a new version.\n"
     ]
    }
   ],
   "source": [
    "work_dir = current_dir + '/inputs'\n",
    "data_dir = work_dir + '/dataset'\n",
    "train_dir = work_dir + '/train'\n",
    "validate_dir = work_dir + '/validate'\n",
    "test_dir = work_dir + '/test'\n",
    "\n",
    "version = 'v1'\n",
    "file_path = f'outputs/{version}'\n",
    "\n",
    "if 'outputs' in os.listdir(current_dir) and version in os.listdir(current_dir + '/outputs'):\n",
    "  print('Old version is already available. Create a new version.')\n",
    "  pass\n",
    "else:\n",
    "  os.makedirs(name=file_path)"
   ]
  },
  {
   "cell_type": "markdown",
   "metadata": {},
   "source": [
    "# Set labels"
   ]
  },
  {
   "cell_type": "code",
   "execution_count": 26,
   "metadata": {},
   "outputs": [
    {
     "name": "stdout",
     "output_type": "stream",
     "text": [
      "Project Labels: ['Sphynx', 'Burmese', 'Springer Spaniel', 'Poison Dart Frog', 'Degu', 'Chinchilla', 'Rottweiler', 'Guinea Pig', 'American Shorthair', 'Lovebird', 'Egyptian Mau', 'Wallaby', 'Budgerigar', 'Quaker Parrot', 'African Dwarf Frog', 'Dachshund', 'Hyacinth Macaw', 'Canary', 'French Bulldog', 'Shih Tzu', 'Chameleon', 'Great Dane', 'Devon Rex', 'Ragdoll', 'Hamster', 'Abyssinian', 'Jack Russell Terrier', 'Pug', 'Siamese', 'Maine Coon', 'Bengal', 'Bearded Dragon', 'Scottish Fold', 'Rat', 'Ferret', 'Parrotlet', 'Beagle', 'Cockatoo', 'Cocker Spaniel', 'Crested Gecko', 'British Shorthair', 'Cockatiel', 'Labrador Retriever', 'Mouse', 'African Grey Parrot', 'American Toad', 'German Shepherd', 'Border Collie', 'Finch', \"Bourke's Parakeet\", 'Pionus Parrot', \"White's Tree Frog\", 'Rabbit', 'Russian Blue', 'Persian', 'Yorkshire Terrier', 'Poodle', 'Red-eyed Tree Frog', 'Leopard Gecko', 'Green Iguana', 'Salamander', 'Horse', 'Horned Toad', 'Sugar Glider', 'Axolotl', 'Golden Retriever', 'Boxer', 'Gerbil', 'Bulldog', 'Miniature Schnauzer', 'Eastern Newt']\n"
     ]
    }
   ],
   "source": [
    "labels = [name for name in os.listdir(data_dir) if os.path.isdir(os.path.join(data_dir, name))]\n",
    "\n",
    "print(\n",
    "    f\"Project Labels: {labels}\"\n",
    "    )"
   ]
  },
  {
   "cell_type": "markdown",
   "metadata": {},
   "source": [
    "# Split the images"
   ]
  },
  {
   "cell_type": "markdown",
   "metadata": {},
   "source": [
    "First, we install sklearn library to split the images into training, validation, and test sets."
   ]
  },
  {
   "cell_type": "code",
   "execution_count": 3,
   "metadata": {},
   "outputs": [
    {
     "name": "stdout",
     "output_type": "stream",
     "text": [
      "Collecting scikit-learn\n",
      "  Downloading scikit_learn-1.3.2-cp38-cp38-macosx_12_0_arm64.whl (9.4 MB)\n",
      "\u001b[2K     \u001b[90m━━━━━━━━━━━━━━━━━━━━━━━━━━━━━━━━━━━━━━━━\u001b[0m \u001b[32m9.4/9.4 MB\u001b[0m \u001b[31m2.4 MB/s\u001b[0m eta \u001b[36m0:00:00\u001b[0m00:01\u001b[0m00:01\u001b[0m\n",
      "\u001b[?25hCollecting scipy>=1.5.0\n",
      "  Using cached scipy-1.10.1-cp38-cp38-macosx_12_0_arm64.whl (28.8 MB)\n",
      "Requirement already satisfied: numpy<2.0,>=1.17.3 in ./venv/lib/python3.8/site-packages (from scikit-learn) (1.24.4)\n",
      "Collecting joblib>=1.1.1\n",
      "  Downloading joblib-1.4.2-py3-none-any.whl (301 kB)\n",
      "\u001b[2K     \u001b[90m━━━━━━━━━━━━━━━━━━━━━━━━━━━━━━━━━━━━━━━\u001b[0m \u001b[32m301.8/301.8 kB\u001b[0m \u001b[31m3.1 MB/s\u001b[0m eta \u001b[36m0:00:00\u001b[0ma \u001b[36m0:00:01\u001b[0m\n",
      "\u001b[?25hCollecting threadpoolctl>=2.0.0\n",
      "  Downloading threadpoolctl-3.5.0-py3-none-any.whl (18 kB)\n",
      "Installing collected packages: threadpoolctl, scipy, joblib, scikit-learn\n",
      "Successfully installed joblib-1.4.2 scikit-learn-1.3.2 scipy-1.10.1 threadpoolctl-3.5.0\n",
      "\n",
      "\u001b[1m[\u001b[0m\u001b[34;49mnotice\u001b[0m\u001b[1;39;49m]\u001b[0m\u001b[39;49m A new release of pip is available: \u001b[0m\u001b[31;49m23.0.1\u001b[0m\u001b[39;49m -> \u001b[0m\u001b[32;49m24.0\u001b[0m\n",
      "\u001b[1m[\u001b[0m\u001b[34;49mnotice\u001b[0m\u001b[1;39;49m]\u001b[0m\u001b[39;49m To update, run: \u001b[0m\u001b[32;49mpip install --upgrade pip\u001b[0m\n",
      "Note: you may need to restart the kernel to use updated packages.\n"
     ]
    }
   ],
   "source": [
    "%pip install -U scikit-learn"
   ]
  },
  {
   "cell_type": "code",
   "execution_count": 29,
   "metadata": {},
   "outputs": [],
   "source": [
    "import shutil\n",
    "import random\n",
    "import joblib\n",
    "\n",
    "def split_train_validate_test_images(data_dir, train_set_ratio, validate_set_ratio, test_set_ratio):\n",
    "  \n",
    "  if train_set_ratio + validate_set_ratio + test_set_ratio != 1.0:\n",
    "    print(\"train_set_ratio + validate_set_ratio + test_set_ratio should sum 1.0\")\n",
    "    return\n",
    "\n",
    "  # gets classes labels\n",
    "  labels = os.listdir(data_dir) # it should get only the folder name\n",
    "  if 'test' in labels:\n",
    "    pass\n",
    "  else: \n",
    "    # create train, test folders with classess labels sub-folder\n",
    "    for folder in ['train','validate','test']:\n",
    "      for label in labels:\n",
    "        os.makedirs(name=data_dir+ '/' + folder + '/' + label)\n",
    "\n",
    "    for label in labels:\n",
    "\n",
    "      path = os.path.join(data_dir, label)\n",
    "      if os.path.isdir(path):\n",
    "          files = os.listdir(path)\n",
    "          random.shuffle(files)\n",
    "\n",
    "      train_set_files_qty = int(len(files) * train_set_ratio)\n",
    "      validate_set_files_qty = int(len(files) * validate_set_ratio)\n",
    "\n",
    "      count = 1\n",
    "      for file_name in files:\n",
    "        if count <= train_set_files_qty:\n",
    "          # move given file to train set\n",
    "          shutil.move(data_dir + '/' + label + '/' + file_name,\n",
    "                      data_dir + '/train/' + label + '/' + file_name)\n",
    "          \n",
    "\n",
    "        elif count <= (train_set_files_qty + validate_set_files_qty ):\n",
    "          # move given file to validate set\n",
    "          shutil.move(data_dir + '/' + label + '/' + file_name,\n",
    "                      data_dir + '/validate/' + label + '/' + file_name)\n",
    "\n",
    "        else:\n",
    "          # move given file to test set\n",
    "          shutil.move(data_dir + '/' + label + '/' + file_name,\n",
    "                  data_dir + '/test/' +label + '/'+ file_name)\n",
    "          \n",
    "        count += 1\n",
    "\n",
    "      os.rmdir(data_dir + '/' + label)"
   ]
  },
  {
   "cell_type": "code",
   "execution_count": 30,
   "metadata": {},
   "outputs": [],
   "source": [
    "split_train_validate_test_images(data_dir,\n",
    "                        train_set_ratio = 0.7,\n",
    "                        validate_set_ratio=0.15,\n",
    "                        test_set_ratio=0.15\n",
    "                        )"
   ]
  },
  {
   "cell_type": "markdown",
   "metadata": {},
   "source": [
    "# Number of images in each set (LO 3.1)"
   ]
  },
  {
   "cell_type": "code",
   "execution_count": 7,
   "metadata": {},
   "outputs": [
    {
     "data": {
      "image/png": "[encoded data removed]",
      "text/plain": [
       "<Figure size 800x600 with 1 Axes>"
      ]
     },
     "metadata": {},
     "output_type": "display_data"
    }
   ],
   "source": [
    "df_freq = pd.DataFrame(columns=['Set', 'Label', 'Frequency'])\n",
    "\n",
    "for folder in ['train', 'validate', 'test']:\n",
    "    files = [f for f in os.listdir(os.path.join(work_dir, folder)) if not f.startswith('.')]\n",
    "    labels = [file.rsplit('_', 1)[0] for file in files]\n",
    "    unique_labels, counts = np.unique(labels, return_counts=True)\n",
    "    for label, count in zip(unique_labels, counts):\n",
    "        df_to_append = pd.DataFrame([{'Set': folder, 'Label': label, 'Frequency': count}], columns=['Set', 'Label', 'Frequency'])\n",
    "        df_freq = pd.concat([df_freq, df_to_append], ignore_index=True)\n",
    "\n",
    "# Summarize data\n",
    "df_summary = df_freq.groupby('Set')['Frequency'].sum().reset_index()\n",
    "\n",
    "# Plotting\n",
    "df_summary.plot(x='Set', y='Frequency', kind='bar', legend=False, color=['red', 'blue', 'green'], figsize=(8, 6))\n",
    "plt.ylabel('Frequency')\n",
    "plt.title('Total Number of Images in Each Set')\n",
    "plt.show()\n"
   ]
  },
  {
   "cell_type": "code",
   "execution_count": 8,
   "metadata": {},
   "outputs": [
    {
     "name": "stdout",
     "output_type": "stream",
     "text": [
      "       Set                Label Frequency\n",
      "0    train                  .DS         1\n",
      "1    train           abyssinian        21\n",
      "2    train   african_dwarf_frog        21\n",
      "3    train  african_grey_parrot        20\n",
      "4    train   american_shorthair        21\n",
      "..     ...                  ...       ...\n",
      "222   test     springer_spaniel         5\n",
      "223   test         sugar_glider         5\n",
      "224   test              wallaby         5\n",
      "225   test     whites_tree_frog         5\n",
      "226   test    yorkshire_terrier         5\n",
      "\n",
      "[227 rows x 3 columns]\n"
     ]
    }
   ],
   "source": [
    "df_freq = pd.DataFrame(columns=['Set', 'Label', 'Frequency'])\n",
    "\n",
    "for folder in ['train', 'validate', 'test']:\n",
    "    files = os.listdir(os.path.join(work_dir, folder))\n",
    "    labels = [file.rsplit('_', 1)[0] for file in files]\n",
    "    unique_labels, counts = np.unique(labels, return_counts=True)\n",
    "    for label, count in zip(unique_labels, counts):\n",
    "        df_to_append = pd.DataFrame([{'Set': folder, 'Label': label, 'Frequency': count}], columns=['Set', 'Label', 'Frequency'])\n",
    "        df_freq = pd.concat([df_freq, df_to_append], ignore_index=True)\n",
    "\n",
    "print(df_freq)"
   ]
  },
  {
   "cell_type": "markdown",
   "metadata": {},
   "source": [
    "---"
   ]
  },
  {
   "cell_type": "markdown",
   "metadata": {},
   "source": [
    "# Augment Images"
   ]
  },
  {
   "cell_type": "code",
   "execution_count": 9,
   "metadata": {},
   "outputs": [],
   "source": [
    "import tensorflow as tf"
   ]
  },
  {
   "cell_type": "code",
   "execution_count": 10,
   "metadata": {},
   "outputs": [],
   "source": [
    "from tensorflow.keras.preprocessing.image import ImageDataGenerator"
   ]
  },
  {
   "cell_type": "markdown",
   "metadata": {},
   "source": [
    "Initialize ImageDataGenerator"
   ]
  },
  {
   "cell_type": "code",
   "execution_count": 11,
   "metadata": {},
   "outputs": [],
   "source": [
    "augmented_image_data = ImageDataGenerator(rotation_range=20,\n",
    "                                   width_shift_range=0.10, \n",
    "                                   height_shift_range=0.10,\n",
    "                                   shear_range=0.1,\n",
    "                                   zoom_range=0.1,\n",
    "                                   horizontal_flip=True,\n",
    "                                   vertical_flip=True,\n",
    "                                   fill_mode='nearest',\n",
    "                                   rescale=1./255\n",
    "                              )"
   ]
  },
  {
   "cell_type": "markdown",
   "metadata": {},
   "source": [
    "Augment training images"
   ]
  },
  {
   "cell_type": "code",
   "execution_count": 12,
   "metadata": {},
   "outputs": [
    {
     "name": "stdout",
     "output_type": "stream",
     "text": [
      "Found 0 images belonging to 0 classes.\n"
     ]
    },
    {
     "data": {
      "text/plain": [
       "{}"
      ]
     },
     "execution_count": 12,
     "metadata": {},
     "output_type": "execute_result"
    }
   ],
   "source": [
    "batch_size = 20 # Set batch size\n",
    "image_shape = [150, 150, 3]\n",
    "train_set = augmented_image_data.flow_from_directory(train_dir,\n",
    "                                              target_size=image_shape[:2],\n",
    "                                              color_mode='rgb',\n",
    "                                              batch_size=batch_size,\n",
    "                                              class_mode='binary',\n",
    "                                              shuffle=True\n",
    "                                              )\n",
    "\n",
    "train_set.class_indices"
   ]
  },
  {
   "cell_type": "code",
   "execution_count": null,
   "metadata": {},
   "outputs": [],
   "source": []
  }
 ],
 "metadata": {
  "kernelspec": {
   "display_name": "venv",
   "language": "python",
   "name": "python3"
  },
  "language_info": {
   "codemirror_mode": {
    "name": "ipython",
    "version": 3
   },
   "file_extension": ".py",
   "mimetype": "text/x-python",
   "name": "python",
   "nbconvert_exporter": "python",
   "pygments_lexer": "ipython3",
   "version": "3.8.19"
  }
 },
 "nbformat": 4,
 "nbformat_minor": 2
}
