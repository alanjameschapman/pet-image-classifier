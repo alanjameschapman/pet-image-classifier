{
 "cells": [
  {
   "cell_type": "markdown",
   "metadata": {},
   "source": [
    "# **EPIC 3 - DATA PREPARATION**"
   ]
  },
  {
   "cell_type": "markdown",
   "metadata": {},
   "source": [
    "![data-preparation](../docs/images/data-preparation.png)"
   ]
  },
  {
   "cell_type": "markdown",
   "metadata": {},
   "source": [
    "## Objectives\n",
    "\n",
    "- Pre-process the data for the machine learning model.\n",
    "\n",
    "### Acceptance Criteria\n",
    "- Datasets for each animal should have equal number of images to avoid bias.\n",
    "- All images should be labelled, resized and normalized to a standard size (LO 3.1).\n",
    "\n",
    "## Tasks\n",
    "- Check and ensure similar number of images per animal.\n",
    "- Resize and rename the images.\n",
    "\n",
    "## Inputs\n",
    "\n",
    "- inputs/[datasets]: folders containing the raw image datasets for each animal.\n",
    "\n",
    "## Outputs\n",
    "\n",
    "- An image dataset containing labelled animal images of a standard size and equal number of images for each animal."
   ]
  },
  {
   "cell_type": "markdown",
   "metadata": {},
   "source": [
    "---"
   ]
  },
  {
   "cell_type": "markdown",
   "metadata": {},
   "source": [
    "# Change working directory"
   ]
  },
  {
   "cell_type": "code",
   "execution_count": 10,
   "metadata": {},
   "outputs": [
    {
     "name": "stdout",
     "output_type": "stream",
     "text": [
      "Current working directory is: /Users/gingermale/Documents/repos/PP5/pet-image-classifier\n"
     ]
    }
   ],
   "source": [
    "import os\n",
    "current_dir = os.getcwd()\n",
    "print(\"Current working directory is:\", current_dir)"
   ]
  },
  {
   "cell_type": "code",
   "execution_count": 2,
   "metadata": {},
   "outputs": [
    {
     "name": "stdout",
     "output_type": "stream",
     "text": [
      "Changing the working directory to parent folder: /Users/gingermale/Documents/repos/PP5/pet-image-classifier\n"
     ]
    }
   ],
   "source": [
    "os.chdir(os.path.dirname(current_dir)) # Change the current working directory to the parent directory\n",
    "current_dir = os.getcwd() # Get the new current working directory\n",
    "print(\"Changing the working directory to parent folder:\", current_dir)"
   ]
  },
  {
   "cell_type": "markdown",
   "metadata": {},
   "source": [
    "# Manually add and remove images"
   ]
  },
  {
   "cell_type": "markdown",
   "metadata": {},
   "source": [
    "Now visualize the dataset"
   ]
  },
  {
   "cell_type": "code",
   "execution_count": 11,
   "metadata": {},
   "outputs": [
    {
     "data": {
      "image/png": "[encoded data removed]",
      "text/plain": [
       "<Figure size 1000x600 with 1 Axes>"
      ]
     },
     "metadata": {},
     "output_type": "display_data"
    }
   ],
   "source": [
    "import seaborn as sns\n",
    "from PIL import Image\n",
    "import matplotlib.pyplot as plt\n",
    "\n",
    "def visualize_dataset(directory):\n",
    "    dir_counts = {}\n",
    "    image_sizes = []\n",
    "    image_resolutions = []\n",
    "    for dirpath, dirnames, filenames in os.walk(directory):\n",
    "        count = 0\n",
    "        for filename in filenames:\n",
    "            if filename.endswith(('.png', '.jpg', '.jpeg')):\n",
    "                count += 1\n",
    "                file_path = os.path.join(dirpath, filename)\n",
    "                with Image.open(file_path) as img:\n",
    "                    width, height = img.size\n",
    "                    image_sizes.append(width * height)\n",
    "                    image_resolutions.append((width, height))\n",
    "        if count > 0:\n",
    "            dir_counts[dirpath] = count\n",
    "\n",
    "    # Plot number of images per directory\n",
    "    plt.figure(figsize=(10, 6))\n",
    "    sns.countplot(x=list(dir_counts.values()))\n",
    "    plt.title('Number of Images per Directory')\n",
    "    plt.xticks(rotation=90)\n",
    "    plt.show()\n",
    "\n",
    "visualize_dataset('/Users/gingermale/Documents/repos/PP5/pet-image-classifier/inputs/dataset')"
   ]
  },
  {
   "cell_type": "code",
   "execution_count": 7,
   "metadata": {},
   "outputs": [
    {
     "name": "stdout",
     "output_type": "stream",
     "text": [
      "Directory /Users/gingermale/Documents/repos/PP5/pet-image-classifier/inputs/dataset/Labrador Retriever has 49 images\n",
      "Directory /Users/gingermale/Documents/repos/PP5/pet-image-classifier/inputs/dataset/Golden Retriever has 47 images\n"
     ]
    }
   ],
   "source": [
    "def print_directories_in_range(directory, min_count, max_count):\n",
    "    dir_counts = {}\n",
    "    for dirpath, dirnames, filenames in os.walk(directory):\n",
    "        count = 0\n",
    "        for filename in filenames:\n",
    "            if filename.endswith(('.png', '.jpg', '.jpeg')):\n",
    "                count += 1\n",
    "        if count > 0:\n",
    "            dir_counts[dirpath] = count\n",
    "\n",
    "    # Print directories with image count within the specified range\n",
    "    for dirpath, count in dir_counts.items():\n",
    "        if min_count <= count <= max_count:\n",
    "            print(f\"Directory {dirpath} has {count} images\")\n",
    "\n",
    "print_directories_in_range('/Users/gingermale/Documents/repos/PP5/pet-image-classifier/inputs/dataset', 47, 49)\n"
   ]
  },
  {
   "cell_type": "markdown",
   "metadata": {},
   "source": [
    "# Resize images"
   ]
  },
  {
   "cell_type": "code",
   "execution_count": 12,
   "metadata": {},
   "outputs": [
    {
     "name": "stderr",
     "output_type": "stream",
     "text": [
      "/Users/gingermale/Documents/repos/PP5/pet-image-classifier/venv/lib/python3.8/site-packages/PIL/Image.py:1000: UserWarning: Palette images with Transparency expressed in bytes should be converted to RGBA images\n",
      "  warnings.warn(\n"
     ]
    }
   ],
   "source": [
    "from PIL import Image, UnidentifiedImageError\n",
    "\n",
    "def resize_images(directory, size=(150, 150)):\n",
    "    for dirpath, dirnames, filenames in os.walk(directory):\n",
    "        for filename in filenames:\n",
    "            if filename.endswith(('.png', '.jpg', '.jpeg', '.JPG')):\n",
    "                file_path = os.path.join(dirpath, filename)\n",
    "                try:\n",
    "                    with Image.open(file_path) as img:\n",
    "                        img = img.convert('RGB')  # Convert image to RGB mode\n",
    "                        new_img = img.resize(size)\n",
    "                        new_img.save(file_path)\n",
    "                except UnidentifiedImageError:\n",
    "                    print(f\"Skipping file (not an image or corrupted): {file_path}\")\n",
    "\n",
    "resize_images('/Users/gingermale/Documents/repos/PP5/pet-image-classifier/inputs/dataset')"
   ]
  },
  {
   "cell_type": "markdown",
   "metadata": {},
   "source": [
    "Images were checked to ensure they were all the same size."
   ]
  },
  {
   "cell_type": "code",
   "execution_count": 9,
   "metadata": {},
   "outputs": [],
   "source": [
    "def check_image_sizes(directory, size=(150, 150)):\n",
    "    for dirpath, dirnames, filenames in os.walk(directory):\n",
    "        for filename in filenames:\n",
    "            if filename.endswith(('.png', '.jpg', '.jpeg')):\n",
    "                file_path = os.path.join(dirpath, filename)\n",
    "                with Image.open(file_path) as img:\n",
    "                    if img.size != size:\n",
    "                        print(f\"Image {file_path} is not {size}, it's {img.size}\")\n",
    "\n",
    "check_image_sizes('/Users/gingermale/Documents/repos/PP5/pet-image-classifier/inputs/dataset')"
   ]
  },
  {
   "cell_type": "markdown",
   "metadata": {},
   "source": [
    "# Conclusions and Next Steps"
   ]
  },
  {
   "cell_type": "markdown",
   "metadata": {},
   "source": [
    "**Number of images per animal**\n",
    "\n",
    "The datasets are now of consistent in size, with the majority having 30 images per animal. The minimum number of images per animal is 27. It is not envisaged that this discrepancy will cause any bias, but the future image augmentation step will seek to negate any bias.\n",
    "\n",
    "**Labelling and resizing**\n",
    "\n",
    "All images have been labelled uniquely as a means to identify them when they are split into train, validate and test datasets. The next step, [#5](https://github.com/alanjameschapman/pet-image-classifier/issues/5) is to split the datasets into train, validate and test datasets."
   ]
  },
  {
   "cell_type": "markdown",
   "metadata": {},
   "source": []
  }
 ],
 "metadata": {
  "kernelspec": {
   "display_name": "venv",
   "language": "python",
   "name": "python3"
  },
  "language_info": {
   "codemirror_mode": {
    "name": "ipython",
    "version": 3
   },
   "file_extension": ".py",
   "mimetype": "text/x-python",
   "name": "python",
   "nbconvert_exporter": "python",
   "pygments_lexer": "ipython3",
   "version": "3.12.3"
  }
 },
 "nbformat": 4,
 "nbformat_minor": 2
}
