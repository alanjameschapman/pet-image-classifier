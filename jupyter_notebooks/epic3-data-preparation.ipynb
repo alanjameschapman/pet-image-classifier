{
 "cells": [
  {
   "cell_type": "markdown",
   "metadata": {},
   "source": [
    "# **EPIC 3 - DATA PREPARATION**"
   ]
  },
  {
   "cell_type": "markdown",
   "metadata": {},
   "source": [
    "## Objectives\n",
    "\n",
    "- Pre-process the data for the machine learning model.\n",
    "\n",
    "### Acceptance Criteria\n",
    "-  All images should be labelled, resized and normalized to a standard size (LO 3.1).\n",
    "\n",
    "## Tasks\n",
    "- Extract relevant features on which to train the model.\n",
    "- Augment and engineer features.\n",
    "- Resize and normalize the images to a standard size.\n",
    "\n",
    "## Inputs\n",
    "\n",
    "- inputs/[datasets]: folders containing the raw image datasets for each animal.\n",
    "\n",
    "## Outputs\n",
    "\n",
    "- An image dataset containing labelled animal images of a standard size."
   ]
  },
  {
   "cell_type": "markdown",
   "metadata": {},
   "source": [
    "---"
   ]
  },
  {
   "cell_type": "markdown",
   "metadata": {},
   "source": [
    "# Change working directory"
   ]
  },
  {
   "cell_type": "code",
   "execution_count": 1,
   "metadata": {},
   "outputs": [
    {
     "name": "stdout",
     "output_type": "stream",
     "text": [
      "Current working directory is: /Users/gingermale/Documents/repos/PP5/pet-image-classifier/jupyter_notebooks\n"
     ]
    }
   ],
   "source": [
    "import os\n",
    "current_dir = os.getcwd()\n",
    "print(\"Current working directory is:\", current_dir)"
   ]
  },
  {
   "cell_type": "code",
   "execution_count": 2,
   "metadata": {},
   "outputs": [
    {
     "name": "stdout",
     "output_type": "stream",
     "text": [
      "Changing the working directory to parent folder: /Users/gingermale/Documents/repos/PP5/pet-image-classifier\n"
     ]
    }
   ],
   "source": [
    "os.chdir(os.path.dirname(current_dir)) # Change the current working directory to the parent directory\n",
    "current_dir = os.getcwd() # Get the new current working directory\n",
    "print(\"Changing the working directory to parent folder:\", current_dir)"
   ]
  },
  {
   "cell_type": "code",
   "execution_count": null,
   "metadata": {},
   "outputs": [],
   "source": []
  }
 ],
 "metadata": {
  "kernelspec": {
   "display_name": "venv",
   "language": "python",
   "name": "python3"
  },
  "language_info": {
   "codemirror_mode": {
    "name": "ipython",
    "version": 3
   },
   "file_extension": ".py",
   "mimetype": "text/x-python",
   "name": "python",
   "nbconvert_exporter": "python",
   "pygments_lexer": "ipython3",
   "version": "3.8.19"
  }
 },
 "nbformat": 4,
 "nbformat_minor": 2
}
